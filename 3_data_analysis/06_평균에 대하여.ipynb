{
 "cells": [
  {
   "cell_type": "markdown",
   "metadata": {
    "id": "EnlYouStN0Le"
   },
   "source": [
    "# 평균에 대하여"
   ]
  },
  {
   "cell_type": "markdown",
   "metadata": {
    "id": "0SJP-uYxN0Lk"
   },
   "source": [
    "## 1.환경준비"
   ]
  },
  {
   "cell_type": "markdown",
   "metadata": {
    "id": "6dMK5CsEN0Lk"
   },
   "source": [
    "* 라이브러리 불러오기"
   ]
  },
  {
   "cell_type": "code",
   "execution_count": null,
   "metadata": {
    "id": "Sma8Fku5N0Ll"
   },
   "outputs": [],
   "source": [
    "import pandas as pd\n",
    "import numpy as np\n",
    "import random as rd\n",
    "\n",
    "import matplotlib.pyplot as plt\n",
    "import seaborn as sns\n",
    "\n",
    "import scipy.stats as spst"
   ]
  },
  {
   "cell_type": "markdown",
   "metadata": {
    "id": "OUboW_3WFCUF"
   },
   "source": [
    "## 2.분산과 표준편차"
   ]
  },
  {
   "cell_type": "markdown",
   "metadata": {
    "id": "mOBKjuZliTaB"
   },
   "source": [
    "* 한 집단을 설명하기 위해서\n",
    "* 그 집단 안에서 대푯값으로 평균을 구할 때\n",
    "* 값들이 평균으로부터 얼마나 벗어나 있는지(이탈도, deviation)를 나타내는 값.\n",
    "    * 예 : 우리 반 수학 성적의 평균이 91, 표준편차는 10"
   ]
  },
  {
   "cell_type": "code",
   "execution_count": null,
   "metadata": {
    "id": "byhafXmuiTaB"
   },
   "outputs": [],
   "source": [
    "a = np.array([180,173,165,166,171])\n",
    "\n",
    "print(f'평균 : {a.mean()}')\n",
    "print(f'분산 : {a.var()}')\n",
    "print(f'표준편차 : {a.std()}')"
   ]
  },
  {
   "cell_type": "markdown",
   "metadata": {
    "id": "FX6TpZ97_j8j"
   },
   "source": [
    "## 3.평균비교"
   ]
  },
  {
   "cell_type": "markdown",
   "metadata": {
    "id": "DedsPRe5DFEg"
   },
   "source": [
    "* 평균이 믿을만 한지는 오차로 평가해야 합니다.\n",
    "    * 표준편차\n",
    "    * 표준오차"
   ]
  },
  {
   "cell_type": "markdown",
   "metadata": {
    "id": "L7lpOyfliTaC"
   },
   "source": [
    "평균 38.6, 표준편차 17.5는 집단 a를 설명(대표)하는 숫자 입니다."
   ]
  },
  {
   "cell_type": "markdown",
   "metadata": {
    "id": "Gvb0boE8iTaC"
   },
   "source": [
    "### (1) 표준오차(SE, standard error)\n",
    "* 표준오차는 표준편차와 다른 개념입니다. (표준 편차와 비교하는 개념이 아닙니다!)\n",
    "* 우선 **표본(의) 평균**을 이해해야 합니다.\n",
    "* 표본을 뽑아내는(표집, sampling) 목적은, 모집단을 추정하기 위함 입니다.\n",
    "    * 표본평균을 계산한다는 의미는, 표본의 평균으로 모집단의 평균을 **추정**하기 위함 입니다.(**추정치**)\n",
    "    * 표본의 평균을 계산하면, 표본 자체의 평균이라는 의미가 아니라, 모평균을 표본으로 추정한 평균치 입니다.\n",
    "    * 그래서 표본평균 하면 항상 모평균을 의식해야 합니다.\n",
    "* 그런데 표본평균은 모평균과 완전히 일치할 수는 없습니다.\n",
    "* 이 오차를 **표준오차** 라고 합니다.\n",
    "\n",
    "* 표준오차 공식 : 𝑠/√𝑛\n",
    "    * 샘플의 표준 편차 : s\n",
    "    * 데이터 건수 : n\n",
    "* 표준 오차로 부터 신뢰구간을 계산하게 됩니다."
   ]
  },
  {
   "cell_type": "markdown",
   "metadata": {
    "id": "zYTck08viTaC"
   },
   "source": [
    "* 몇가지 기호에 대해서  \n",
    "\n",
    "<img src='https://github.com/DA4BAM/image/blob/main/%EA%B8%B0%ED%98%B8.png?raw=true' width=500/>"
   ]
  },
  {
   "cell_type": "markdown",
   "metadata": {
    "id": "_jgJRx1pHQjK"
   },
   "source": [
    "### (2) 95% 신뢰구간"
   ]
  },
  {
   "cell_type": "markdown",
   "metadata": {
    "id": "Ux2Y0KTSiTaD"
   },
   "source": [
    "* 모집단을 하나 준비합니다."
   ]
  },
  {
   "cell_type": "code",
   "execution_count": null,
   "metadata": {
    "id": "hcbP-v-xG__p"
   },
   "outputs": [],
   "source": [
    "# 임의의 모집단을 하나 만듭시다.\n",
    "pop = [round(rd.normalvariate(172, 7),1) for i in range(800000)]"
   ]
  },
  {
   "cell_type": "code",
   "execution_count": null,
   "metadata": {
    "id": "ScPKLQ1bHo0O"
   },
   "outputs": [],
   "source": [
    "# 우리는 모집단을 알 수 없지만.\n",
    "# 전지적 분석가 시점에서 살짝 살펴봅시다. (보고 나서 못 본 것으로 합시다.ㅎㅎ)\n",
    "\n",
    "plt.figure(figsize=(10,6))\n",
    "sns.histplot(pop, bins = 100)\n",
    "plt.axvline(np.mean(pop), color = 'r')\n",
    "plt.text(np.mean(pop)+1, 30000, f'pop mean : {np.mean(pop).round(3)}', color = 'r')\n",
    "plt.show()"
   ]
  },
  {
   "cell_type": "markdown",
   "metadata": {
    "id": "qqBXqQEdiTaD"
   },
   "source": [
    "* 표본 조사를 합니다.\n",
    "    * 50명을 임의로 샘플링 해서\n",
    "    * 표본의 평균과, 표준 오차, 신뢰구간을 계산해 봅시다."
   ]
  },
  {
   "cell_type": "code",
   "execution_count": null,
   "metadata": {
    "id": "-IRbgb0oH8VB"
   },
   "outputs": [],
   "source": [
    "# 표본조사를 합니다. 50\n",
    "s1 = rd.sample(pop, 50)\n",
    "s1 = pd.Series(s1)\n",
    "round(s1.mean(),3)"
   ]
  },
  {
   "cell_type": "code",
   "execution_count": null,
   "metadata": {
    "id": "0Ms9VrOPpuSE"
   },
   "outputs": [],
   "source": [
    "x_mean = []\n",
    "for i in range(100):\n",
    "    s1 = rd.sample(pop, 50)\n",
    "    s1 = pd.Series(s1)\n",
    "    x_mean.append(round(s1.mean(),3))\n",
    "\n",
    "x_mean"
   ]
  },
  {
   "cell_type": "code",
   "execution_count": null,
   "metadata": {
    "id": "bS_ypv2_LWDu"
   },
   "outputs": [],
   "source": [
    "plt.figure(figsize=(10,6))\n",
    "sns.kdeplot(x_mean)\n",
    "plt.axvline(np.mean(x_mean), color = 'r')\n",
    "plt.text(np.mean(x_mean)+1, 0.1, f'pop mean : {round(np.mean(x_mean),3)}', color = 'r')\n",
    "plt.show()"
   ]
  },
  {
   "cell_type": "code",
   "execution_count": null,
   "metadata": {
    "id": "PGiOlSY9H8RT"
   },
   "outputs": [],
   "source": [
    "# 95% 신뢰구간\n",
    "s1.mean() - (1.96 * s1.sem()), s1.mean() + (1.96 * s1.sem())"
   ]
  },
  {
   "cell_type": "markdown",
   "metadata": {
    "id": "au9KiXMLiTaE"
   },
   "source": [
    "* 표본평균의 신뢰구간과 모평균을 비교해 봅시다."
   ]
  },
  {
   "cell_type": "code",
   "execution_count": null,
   "metadata": {
    "id": "ms3jT0QvH8Lw"
   },
   "outputs": [],
   "source": [
    "# 모평균은?\n",
    "np.mean(pop)"
   ]
  },
  {
   "cell_type": "markdown",
   "metadata": {
    "id": "u12z1O0TiTaF"
   },
   "source": [
    "* 95% 신뢰구간에 대한 실험을 해 봅시다.\n",
    "    * 샘플조사를 100번 수행합니다.\n",
    "    * 그때마다 신뢰구간을 계산한 후\n",
    "    * 그 중 몇번이 모평균을 포함하는지 확인해 봅시다.\n",
    "    * 95% 신뢰구간이라면, 100번 중 95번은 모평균을 포함해야 합니다."
   ]
  },
  {
   "cell_type": "code",
   "execution_count": null,
   "metadata": {
    "id": "AGKYKsi3How9"
   },
   "outputs": [],
   "source": [
    "# 100번 샘플링\n",
    "samples = { 'id' : [], 'value' : []}\n",
    "for i in range(100) :\n",
    "    samples['id'] += [i]* 100\n",
    "    samples['value'] += rd.sample(pop,100)\n",
    "\n",
    "samples = pd.DataFrame(samples)\n",
    "samples.shape"
   ]
  },
  {
   "cell_type": "code",
   "execution_count": null,
   "metadata": {
    "id": "cM5FRndlL9Wn"
   },
   "outputs": [],
   "source": [
    "# errorbar 라는 차트 입니다.\n",
    "# 신뢰구간, 표준오차 구간을 시각화 하는 방법입니다.\n",
    "\n",
    "plt.figure(figsize = (18, 8))\n",
    "sns.pointplot(x = 'id', y = 'value', data = samples, join = False)\n",
    "plt.axhline(np.mean(pop), color = 'r')\n",
    "plt.show()"
   ]
  },
  {
   "cell_type": "markdown",
   "metadata": {
    "id": "EihRSZT8iTaG"
   },
   "source": [
    "위 그래프에 대한 해석\n",
    "* x축은 100번 시도에 대한 순번(인덱스)\n",
    "* y축은 모평균(빨간 선)을 추정하기 위한 샘플의 평균과, 신뢰구간 표시"
   ]
  },
  {
   "cell_type": "markdown",
   "metadata": {
    "id": "pJwlvt2jUVUN"
   },
   "source": [
    "## 4.중심극한 정리"
   ]
  },
  {
   "cell_type": "markdown",
   "metadata": {
    "id": "Uk2Hl-NfyWab"
   },
   "source": [
    "* 표본이 클수록 표집분포는 정규분포에 가까워 진다.\n"
   ]
  },
  {
   "cell_type": "markdown",
   "metadata": {
    "id": "BrN80fEXdZlI"
   },
   "source": [
    "### (1) 정규분포 실험"
   ]
  },
  {
   "cell_type": "markdown",
   "metadata": {
    "id": "GttXZ2-hBmHS"
   },
   "source": [
    "* 임의의 모집단을 하나 만듭니다."
   ]
  },
  {
   "cell_type": "code",
   "execution_count": null,
   "metadata": {
    "id": "fflUZF3iBj57"
   },
   "outputs": [],
   "source": [
    "pop = [round(rd.expovariate(.3)+165,2) for i in range(10001)]"
   ]
  },
  {
   "cell_type": "markdown",
   "metadata": {
    "id": "P2lta4kJB5PG"
   },
   "source": [
    "* ① 모집단으로 부터 데이터 n개 짜리 표본을 뽑아 표본평균을 계산합니다.\n",
    "* ② ①번 작업을 m번 반복하여 얻은 표본평균 m개로 분포를 그려봅니다."
   ]
  },
  {
   "cell_type": "code",
   "execution_count": null,
   "metadata": {
    "id": "1UoezuANwxif"
   },
   "outputs": [],
   "source": [
    "# 표본의 크기\n",
    "n = 100\n",
    "\n",
    "# 표본의 갯수\n",
    "m = 200\n",
    "\n",
    "sample_mean = [np.mean(rd.sample(pop,n)) for i in range(m)]\n",
    "\n",
    "plt.figure(figsize=(10,6))\n",
    "sns.kdeplot(sample_mean)\n",
    "\n",
    "plt.axvline(x=np.mean(sample_mean), color = 'red') #표본평균들의 평균\n",
    "plt.axvline(x=np.mean(pop), color = 'grey') # 모평균\n",
    "\n",
    "plt.text(np.mean(sample_mean)-.2, 0.02, round(np.mean(sample_mean),3), color = 'red') #표본평균들의 평균\n",
    "plt.text(np.mean(pop)+.1,0.02, round(np.mean(pop),3), color = 'grey') #모평균\n",
    "\n",
    "plt.show() # show"
   ]
  },
  {
   "cell_type": "markdown",
   "metadata": {
    "id": "Dm1Bx1Rowxij"
   },
   "source": [
    "* 그렇다면, 모집단은 어떤 분포일까?\n"
   ]
  },
  {
   "cell_type": "code",
   "execution_count": null,
   "metadata": {
    "id": "9ysjlBktlNuo"
   },
   "outputs": [],
   "source": [
    "plt.figure(figsize=(10,6)) #설정\n",
    "sns.histplot(pop, bins = 100)\n",
    "plt.axvline(x=np.mean(pop), color = 'grey') # 모평균\n",
    "plt.text(np.mean(pop)+.5, 800, round(np.mean(pop),2), color = 'grey')\n",
    "plt.show()"
   ]
  },
  {
   "cell_type": "code",
   "execution_count": null,
   "metadata": {
    "id": "kvwzFnnw7tjX"
   },
   "outputs": [],
   "source": []
  },
  {
   "cell_type": "markdown",
   "metadata": {
    "id": "1HOZoaZTHshY"
   },
   "source": [
    "### (2) 표본의 크기에 따른 정규분포"
   ]
  },
  {
   "cell_type": "code",
   "execution_count": null,
   "metadata": {
    "id": "PqgKEf1_Hwzs"
   },
   "outputs": [],
   "source": [
    "# 표본의 크기\n",
    "n = 100\n",
    "\n",
    "# 표본의 갯수\n",
    "m = 200\n",
    "\n",
    "for n in range(10,2001, 50 ) :\n",
    "    sample_mean = [np.mean(rd.sample(pop,n)) for i in range(m)]\n",
    "\n",
    "    plt.title(f'n = {n}')\n",
    "    sns.kdeplot(sample_mean)\n",
    "    plt.axvline(x=np.mean(sample_mean), color = 'red') #표본평균들의 평균\n",
    "    plt.axvline(x=np.mean(pop), color = 'grey') # 모평균\n",
    "\n",
    "    plt.text(np.mean(sample_mean)-.2, 0.02, round(np.mean(sample_mean),3), color = 'red') #표본평균들의 평균\n",
    "    plt.text(np.mean(pop)+.1,0.02, round(np.mean(pop),3), color = 'grey') #모평균\n",
    "    plt.xlim(165, 173)\n",
    "    plt.grid()\n",
    "    plt.show() # show"
   ]
  },
  {
   "cell_type": "code",
   "execution_count": null,
   "metadata": {
    "id": "F4FQ6WW-IISV"
   },
   "outputs": [],
   "source": [
    "# 표본의 크기\n",
    "n = 100\n",
    "\n",
    "# 표본의 갯수\n",
    "m = 200\n",
    "\n",
    "plt.figure(figsize = (20,10))\n",
    "plt.axvline(x=np.mean(pop), color = 'red') # 모평균\n",
    "plt.xlim(165, 172)\n",
    "plt.grid()\n",
    "\n",
    "for n in range(10,2001, 50 ) :\n",
    "    sample_mean = [np.mean(rd.sample(pop,n)) for i in range(m)]\n",
    "    sns.kdeplot(sample_mean)\n",
    "\n",
    "plt.show()"
   ]
  },
  {
   "cell_type": "code",
   "execution_count": null,
   "metadata": {
    "id": "DfoNoU4OI-pF"
   },
   "outputs": [],
   "source": []
  }
 ],
 "metadata": {
  "colab": {
   "provenance": [],
   "toc_visible": true
  },
  "kernelspec": {
   "display_name": "Python 3",
   "language": "python",
   "name": "python3"
  },
  "language_info": {
   "codemirror_mode": {
    "name": "ipython",
    "version": 3
   },
   "file_extension": ".py",
   "mimetype": "text/x-python",
   "name": "python",
   "nbconvert_exporter": "python",
   "pygments_lexer": "ipython3",
   "version": "3.7.6"
  }
 },
 "nbformat": 4,
 "nbformat_minor": 4
}
