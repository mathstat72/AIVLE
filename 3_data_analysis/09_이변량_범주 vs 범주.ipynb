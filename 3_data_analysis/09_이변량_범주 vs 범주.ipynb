{
 "cells": [
  {
   "cell_type": "markdown",
   "metadata": {
    "id": "EnlYouStN0Le"
   },
   "source": [
    "# 이변량_범주 vs 범주"
   ]
  },
  {
   "cell_type": "markdown",
   "metadata": {
    "id": "0SJP-uYxN0Lk"
   },
   "source": [
    "# 1.환경준비"
   ]
  },
  {
   "cell_type": "markdown",
   "metadata": {
    "id": "6dMK5CsEN0Lk"
   },
   "source": [
    "## (1) 라이브러리"
   ]
  },
  {
   "cell_type": "code",
   "execution_count": 1,
   "metadata": {
    "id": "Sma8Fku5N0Ll"
   },
   "outputs": [],
   "source": [
    "import pandas as pd\n",
    "import numpy as np\n",
    "# import random as rd\n",
    "\n",
    "import matplotlib.pyplot as plt\n",
    "import seaborn as sns\n",
    "from statsmodels.graphics.mosaicplot import mosaic      #mosaic plot!\n",
    "\n",
    "import scipy.stats as spst"
   ]
  },
  {
   "cell_type": "markdown",
   "metadata": {
    "id": "NCpMWLagN0Ln"
   },
   "source": [
    "## (2) 데이터 불러오기\n",
    "* 다음의 예제 데이터를 사용합니다.\n",
    "> 타이타닉 생존자  \n"
   ]
  },
  {
   "cell_type": "code",
   "execution_count": 2,
   "metadata": {
    "id": "si-trqDhN0Lo"
   },
   "outputs": [
    {
     "data": {
      "text/html": [
       "<div>\n",
       "<style scoped>\n",
       "    .dataframe tbody tr th:only-of-type {\n",
       "        vertical-align: middle;\n",
       "    }\n",
       "\n",
       "    .dataframe tbody tr th {\n",
       "        vertical-align: top;\n",
       "    }\n",
       "\n",
       "    .dataframe thead th {\n",
       "        text-align: right;\n",
       "    }\n",
       "</style>\n",
       "<table border=\"1\" class=\"dataframe\">\n",
       "  <thead>\n",
       "    <tr style=\"text-align: right;\">\n",
       "      <th></th>\n",
       "      <th>PassengerId</th>\n",
       "      <th>Survived</th>\n",
       "      <th>Pclass</th>\n",
       "      <th>Title</th>\n",
       "      <th>Sex</th>\n",
       "      <th>Age</th>\n",
       "      <th>SibSp</th>\n",
       "      <th>Parch</th>\n",
       "      <th>Ticket</th>\n",
       "      <th>Fare</th>\n",
       "      <th>Cabin</th>\n",
       "      <th>Embarked</th>\n",
       "      <th>AgeGroup</th>\n",
       "      <th>Family</th>\n",
       "      <th>Mother</th>\n",
       "      <th>Fare2</th>\n",
       "    </tr>\n",
       "  </thead>\n",
       "  <tbody>\n",
       "    <tr>\n",
       "      <th>0</th>\n",
       "      <td>1</td>\n",
       "      <td>0</td>\n",
       "      <td>3</td>\n",
       "      <td>Mr</td>\n",
       "      <td>male</td>\n",
       "      <td>22.0</td>\n",
       "      <td>1</td>\n",
       "      <td>0</td>\n",
       "      <td>A/5 21171</td>\n",
       "      <td>7.2500</td>\n",
       "      <td>NaN</td>\n",
       "      <td>S</td>\n",
       "      <td>Age_20</td>\n",
       "      <td>2</td>\n",
       "      <td>0</td>\n",
       "      <td>7.2500</td>\n",
       "    </tr>\n",
       "    <tr>\n",
       "      <th>1</th>\n",
       "      <td>2</td>\n",
       "      <td>1</td>\n",
       "      <td>1</td>\n",
       "      <td>Mrs</td>\n",
       "      <td>female</td>\n",
       "      <td>38.0</td>\n",
       "      <td>1</td>\n",
       "      <td>0</td>\n",
       "      <td>PC 17599</td>\n",
       "      <td>71.2833</td>\n",
       "      <td>C85</td>\n",
       "      <td>C</td>\n",
       "      <td>Age_30</td>\n",
       "      <td>2</td>\n",
       "      <td>0</td>\n",
       "      <td>71.2833</td>\n",
       "    </tr>\n",
       "    <tr>\n",
       "      <th>2</th>\n",
       "      <td>3</td>\n",
       "      <td>1</td>\n",
       "      <td>3</td>\n",
       "      <td>Miss</td>\n",
       "      <td>female</td>\n",
       "      <td>26.0</td>\n",
       "      <td>0</td>\n",
       "      <td>0</td>\n",
       "      <td>STON/O2. 3101282</td>\n",
       "      <td>7.9250</td>\n",
       "      <td>NaN</td>\n",
       "      <td>S</td>\n",
       "      <td>Age_20</td>\n",
       "      <td>1</td>\n",
       "      <td>0</td>\n",
       "      <td>7.9250</td>\n",
       "    </tr>\n",
       "    <tr>\n",
       "      <th>3</th>\n",
       "      <td>4</td>\n",
       "      <td>1</td>\n",
       "      <td>1</td>\n",
       "      <td>Mrs</td>\n",
       "      <td>female</td>\n",
       "      <td>35.0</td>\n",
       "      <td>1</td>\n",
       "      <td>0</td>\n",
       "      <td>113803</td>\n",
       "      <td>53.1000</td>\n",
       "      <td>C123</td>\n",
       "      <td>S</td>\n",
       "      <td>Age_30</td>\n",
       "      <td>2</td>\n",
       "      <td>0</td>\n",
       "      <td>53.1000</td>\n",
       "    </tr>\n",
       "    <tr>\n",
       "      <th>4</th>\n",
       "      <td>5</td>\n",
       "      <td>0</td>\n",
       "      <td>3</td>\n",
       "      <td>Mr</td>\n",
       "      <td>male</td>\n",
       "      <td>35.0</td>\n",
       "      <td>0</td>\n",
       "      <td>0</td>\n",
       "      <td>373450</td>\n",
       "      <td>8.0500</td>\n",
       "      <td>NaN</td>\n",
       "      <td>S</td>\n",
       "      <td>Age_30</td>\n",
       "      <td>1</td>\n",
       "      <td>0</td>\n",
       "      <td>8.0500</td>\n",
       "    </tr>\n",
       "  </tbody>\n",
       "</table>\n",
       "</div>"
      ],
      "text/plain": [
       "   PassengerId  Survived  Pclass Title     Sex   Age  SibSp  Parch  \\\n",
       "0            1         0       3    Mr    male  22.0      1      0   \n",
       "1            2         1       1   Mrs  female  38.0      1      0   \n",
       "2            3         1       3  Miss  female  26.0      0      0   \n",
       "3            4         1       1   Mrs  female  35.0      1      0   \n",
       "4            5         0       3    Mr    male  35.0      0      0   \n",
       "\n",
       "             Ticket     Fare Cabin Embarked AgeGroup  Family  Mother    Fare2  \n",
       "0         A/5 21171   7.2500   NaN        S   Age_20       2       0   7.2500  \n",
       "1          PC 17599  71.2833   C85        C   Age_30       2       0  71.2833  \n",
       "2  STON/O2. 3101282   7.9250   NaN        S   Age_20       1       0   7.9250  \n",
       "3            113803  53.1000  C123        S   Age_30       2       0  53.1000  \n",
       "4            373450   8.0500   NaN        S   Age_30       1       0   8.0500  "
      ]
     },
     "execution_count": 2,
     "metadata": {},
     "output_type": "execute_result"
    }
   ],
   "source": [
    "# 타이타닉 데이터\n",
    "titanic = pd.read_csv('https://raw.githubusercontent.com/DA4BAM/dataset/master/titanic.1.csv')\n",
    "titanic.head()"
   ]
  },
  {
   "cell_type": "markdown",
   "metadata": {
    "id": "h-Mfboaprl3P"
   },
   "source": [
    "# 2.범주 --> 범주"
   ]
  },
  {
   "cell_type": "markdown",
   "metadata": {
    "id": "24HAzukSN0Ls"
   },
   "source": [
    "## (1) 교차표(pd.crosstab)\n",
    "\n",
    "범주 vs 범주 를 비교하고 분석하기 위해서는 먼저 **교차표**를 만들어야 합니다."
   ]
  },
  {
   "cell_type": "markdown",
   "metadata": {
    "id": "_ZAUjkluWcnp"
   },
   "source": [
    "* pd.crosstab(행, 열)"
   ]
  },
  {
   "cell_type": "code",
   "execution_count": 3,
   "metadata": {
    "id": "PVVnjqcSYFWs"
   },
   "outputs": [
    {
     "data": {
      "text/html": [
       "<div>\n",
       "<style scoped>\n",
       "    .dataframe tbody tr th:only-of-type {\n",
       "        vertical-align: middle;\n",
       "    }\n",
       "\n",
       "    .dataframe tbody tr th {\n",
       "        vertical-align: top;\n",
       "    }\n",
       "\n",
       "    .dataframe thead th {\n",
       "        text-align: right;\n",
       "    }\n",
       "</style>\n",
       "<table border=\"1\" class=\"dataframe\">\n",
       "  <thead>\n",
       "    <tr style=\"text-align: right;\">\n",
       "      <th>Sex</th>\n",
       "      <th>female</th>\n",
       "      <th>male</th>\n",
       "    </tr>\n",
       "    <tr>\n",
       "      <th>Survived</th>\n",
       "      <th></th>\n",
       "      <th></th>\n",
       "    </tr>\n",
       "  </thead>\n",
       "  <tbody>\n",
       "    <tr>\n",
       "      <th>0</th>\n",
       "      <td>81</td>\n",
       "      <td>468</td>\n",
       "    </tr>\n",
       "    <tr>\n",
       "      <th>1</th>\n",
       "      <td>233</td>\n",
       "      <td>109</td>\n",
       "    </tr>\n",
       "  </tbody>\n",
       "</table>\n",
       "</div>"
      ],
      "text/plain": [
       "Sex       female  male\n",
       "Survived              \n",
       "0             81   468\n",
       "1            233   109"
      ]
     },
     "execution_count": 3,
     "metadata": {},
     "output_type": "execute_result"
    }
   ],
   "source": [
    "# 두 범주별 빈도수를 교차표로 만들어 봅시다.\n",
    "pd.crosstab(titanic['Survived'], titanic['Sex'])"
   ]
  },
  {
   "cell_type": "markdown",
   "metadata": {
    "id": "F4YQ63QpXZKb"
   },
   "source": [
    "* pd.crosstab(행, 열, normalize =   )\n",
    "\n",
    "<img src='https://github.com/DA4BAM/image/blob/main/crosstab.png?raw=true' width=700/>\n"
   ]
  },
  {
   "cell_type": "code",
   "execution_count": 4,
   "metadata": {
    "id": "xNNBmdowHt1T"
   },
   "outputs": [
    {
     "data": {
      "text/html": [
       "<div>\n",
       "<style scoped>\n",
       "    .dataframe tbody tr th:only-of-type {\n",
       "        vertical-align: middle;\n",
       "    }\n",
       "\n",
       "    .dataframe tbody tr th {\n",
       "        vertical-align: top;\n",
       "    }\n",
       "\n",
       "    .dataframe thead th {\n",
       "        text-align: right;\n",
       "    }\n",
       "</style>\n",
       "<table border=\"1\" class=\"dataframe\">\n",
       "  <thead>\n",
       "    <tr style=\"text-align: right;\">\n",
       "      <th>Sex</th>\n",
       "      <th>female</th>\n",
       "      <th>male</th>\n",
       "    </tr>\n",
       "    <tr>\n",
       "      <th>Survived</th>\n",
       "      <th></th>\n",
       "      <th></th>\n",
       "    </tr>\n",
       "  </thead>\n",
       "  <tbody>\n",
       "    <tr>\n",
       "      <th>0</th>\n",
       "      <td>0.257962</td>\n",
       "      <td>0.811092</td>\n",
       "    </tr>\n",
       "    <tr>\n",
       "      <th>1</th>\n",
       "      <td>0.742038</td>\n",
       "      <td>0.188908</td>\n",
       "    </tr>\n",
       "  </tbody>\n",
       "</table>\n",
       "</div>"
      ],
      "text/plain": [
       "Sex         female      male\n",
       "Survived                    \n",
       "0         0.257962  0.811092\n",
       "1         0.742038  0.188908"
      ]
     },
     "execution_count": 4,
     "metadata": {},
     "output_type": "execute_result"
    }
   ],
   "source": [
    "pd.crosstab(titanic['Survived'], titanic['Sex'], normalize = 'columns')"
   ]
  },
  {
   "cell_type": "code",
   "execution_count": 5,
   "metadata": {
    "id": "HqRdrSu-JBbX"
   },
   "outputs": [
    {
     "data": {
      "text/html": [
       "<div>\n",
       "<style scoped>\n",
       "    .dataframe tbody tr th:only-of-type {\n",
       "        vertical-align: middle;\n",
       "    }\n",
       "\n",
       "    .dataframe tbody tr th {\n",
       "        vertical-align: top;\n",
       "    }\n",
       "\n",
       "    .dataframe thead th {\n",
       "        text-align: right;\n",
       "    }\n",
       "</style>\n",
       "<table border=\"1\" class=\"dataframe\">\n",
       "  <thead>\n",
       "    <tr style=\"text-align: right;\">\n",
       "      <th>Sex</th>\n",
       "      <th>female</th>\n",
       "      <th>male</th>\n",
       "    </tr>\n",
       "    <tr>\n",
       "      <th>Survived</th>\n",
       "      <th></th>\n",
       "      <th></th>\n",
       "    </tr>\n",
       "  </thead>\n",
       "  <tbody>\n",
       "    <tr>\n",
       "      <th>0</th>\n",
       "      <td>0.147541</td>\n",
       "      <td>0.852459</td>\n",
       "    </tr>\n",
       "    <tr>\n",
       "      <th>1</th>\n",
       "      <td>0.681287</td>\n",
       "      <td>0.318713</td>\n",
       "    </tr>\n",
       "  </tbody>\n",
       "</table>\n",
       "</div>"
      ],
      "text/plain": [
       "Sex         female      male\n",
       "Survived                    \n",
       "0         0.147541  0.852459\n",
       "1         0.681287  0.318713"
      ]
     },
     "execution_count": 5,
     "metadata": {},
     "output_type": "execute_result"
    }
   ],
   "source": [
    "pd.crosstab(titanic['Survived'], titanic['Sex'], normalize = 'index')"
   ]
  },
  {
   "cell_type": "code",
   "execution_count": 6,
   "metadata": {
    "id": "S8yAEvtzJHEg"
   },
   "outputs": [
    {
     "data": {
      "text/html": [
       "<div>\n",
       "<style scoped>\n",
       "    .dataframe tbody tr th:only-of-type {\n",
       "        vertical-align: middle;\n",
       "    }\n",
       "\n",
       "    .dataframe tbody tr th {\n",
       "        vertical-align: top;\n",
       "    }\n",
       "\n",
       "    .dataframe thead th {\n",
       "        text-align: right;\n",
       "    }\n",
       "</style>\n",
       "<table border=\"1\" class=\"dataframe\">\n",
       "  <thead>\n",
       "    <tr style=\"text-align: right;\">\n",
       "      <th>Embarked</th>\n",
       "      <th>C</th>\n",
       "      <th>Q</th>\n",
       "      <th>S</th>\n",
       "    </tr>\n",
       "    <tr>\n",
       "      <th>Survived</th>\n",
       "      <th></th>\n",
       "      <th></th>\n",
       "      <th></th>\n",
       "    </tr>\n",
       "  </thead>\n",
       "  <tbody>\n",
       "    <tr>\n",
       "      <th>0</th>\n",
       "      <td>0.084175</td>\n",
       "      <td>0.05275</td>\n",
       "      <td>0.479237</td>\n",
       "    </tr>\n",
       "    <tr>\n",
       "      <th>1</th>\n",
       "      <td>0.104377</td>\n",
       "      <td>0.03367</td>\n",
       "      <td>0.245791</td>\n",
       "    </tr>\n",
       "  </tbody>\n",
       "</table>\n",
       "</div>"
      ],
      "text/plain": [
       "Embarked         C        Q         S\n",
       "Survived                             \n",
       "0         0.084175  0.05275  0.479237\n",
       "1         0.104377  0.03367  0.245791"
      ]
     },
     "execution_count": 6,
     "metadata": {},
     "output_type": "execute_result"
    }
   ],
   "source": [
    "pd.crosstab(titanic['Survived'], titanic['Embarked'], normalize = 'all')"
   ]
  },
  {
   "cell_type": "markdown",
   "metadata": {
    "id": "bBPSpzBhVua5"
   },
   "source": [
    "## (2) 시각화\n",
    "* mosaic\n",
    "* (참조) 100% Stacked Bar\n"
   ]
  },
  {
   "cell_type": "markdown",
   "metadata": {
    "id": "LAMXGCpsWJm5"
   },
   "source": [
    "1) Pclass --> Survived"
   ]
  },
  {
   "cell_type": "markdown",
   "metadata": {
    "id": "dmopxnQQZX4_"
   },
   "source": [
    "* mosaic plot\n",
    "    * mosaic(dataframe, [ feature, target])"
   ]
  },
  {
   "cell_type": "code",
   "execution_count": 7,
   "metadata": {
    "id": "t10ETkNKHcNi"
   },
   "outputs": [
    {
     "data": {
      "image/png": "[encoded data removed]",
      "text/plain": [
       "<Figure size 432x288 with 3 Axes>"
      ]
     },
     "metadata": {
      "needs_background": "light"
     },
     "output_type": "display_data"
    }
   ],
   "source": [
    "# Pclass별 생존여부를 mosaic plot으로 그려 봅시다.\n",
    "mosaic(titanic, [ 'Pclass','Survived'])\n",
    "plt.axhline(1- titanic['Survived'].mean(), color = 'r')\n",
    "plt.show()"
   ]
  },
  {
   "cell_type": "markdown",
   "metadata": {
    "id": "SF6cAab1aKw5"
   },
   "source": [
    "① X축 길이는 각 객실등급별 승객비율을 나타냅니다.  \n",
    "② 그 중 3등급 객실에 대해서 보면, y축의 길이는, 3등급 객실 승객 중에서 사망, 생존 비율을 의미합니다."
   ]
  },
  {
   "cell_type": "markdown",
   "metadata": {},
   "source": [
    "**\"객실 등급에 따라서 생존 여부는 관련이 있다\"**"
   ]
  },
  {
   "cell_type": "markdown",
   "metadata": {
    "id": "QprpfbLPYoA7"
   },
   "source": [
    "* 100% Stacked Bar\n",
    "    * 먼저 crosstab으로 집계 : pd.crosstab(**feature**, **target**, normalize = **'index'**)\n",
    "    * .plot.bar(stacked = true)\n",
    "    * 전체 평균선 : plt.axhline()"
   ]
  },
  {
   "cell_type": "code",
   "execution_count": 8,
   "metadata": {
    "id": "qahDr2FxNLKJ"
   },
   "outputs": [
    {
     "name": "stdout",
     "output_type": "stream",
     "text": [
      "Survived         0         1\n",
      "Pclass                      \n",
      "1         0.370370  0.629630\n",
      "2         0.527174  0.472826\n",
      "3         0.757637  0.242363\n"
     ]
    },
    {
     "data": {
      "image/png": "[encoded data removed]",
      "text/plain": [
       "<Figure size 432x288 with 1 Axes>"
      ]
     },
     "metadata": {
      "needs_background": "light"
     },
     "output_type": "display_data"
    }
   ],
   "source": [
    "# 비율만 보이고 이 순서대로 코드를 작성해야 함 ********************\n",
    "temp = pd.crosstab(titanic['Pclass'], titanic['Survived'], normalize = 'index')\n",
    "print(temp)\n",
    "temp.plot.bar(stacked=True)\n",
    "plt.axhline(1-titanic['Survived'].mean(), color = 'r')\n",
    "plt.show()"
   ]
  },
  {
   "cell_type": "markdown",
   "metadata": {},
   "source": [
    "객실 등급에 따라서 사망율 비교"
   ]
  },
  {
   "cell_type": "markdown",
   "metadata": {
    "id": "r8bveTITaDsU"
   },
   "source": [
    "비율만 비교하므로 양에 대한 비교는 할 수 없다!"
   ]
  },
  {
   "cell_type": "markdown",
   "metadata": {
    "id": "xSWBmU_Yeu5A"
   },
   "source": [
    "<img src='https://raw.githubusercontent.com/jangrae/img/master/practice_01.png' width=120 align=\"left\"/>"
   ]
  },
  {
   "cell_type": "markdown",
   "metadata": {
    "id": "8v7MIkTFGZun"
   },
   "source": [
    "아래 관계에 대해서 교차표와 시각화(mosaic)를 수행하고, feature와 target 간에 관계가 있는지 분석해 봅시다.\n"
   ]
  },
  {
   "cell_type": "markdown",
   "metadata": {
    "id": "1KkdJ53SGioZ"
   },
   "source": [
    "* [문1] Sex --> Survived"
   ]
  },
  {
   "cell_type": "code",
   "execution_count": 9,
   "metadata": {
    "id": "fUDhkzU9M9hd"
   },
   "outputs": [
    {
     "data": {
      "image/png": "[encoded data removed]",
      "text/plain": [
       "<Figure size 432x288 with 3 Axes>"
      ]
     },
     "metadata": {
      "needs_background": "light"
     },
     "output_type": "display_data"
    }
   ],
   "source": [
    "# Pclass별 생존여부를 mosaic plot으로 그려 봅시다.\n",
    "mosaic(titanic, [ 'Sex','Survived'])\n",
    "plt.axhline(1- titanic['Survived'].mean(), color = 'r')\n",
    "plt.show()"
   ]
  },
  {
   "cell_type": "markdown",
   "metadata": {
    "id": "wa40t_9FM9eM"
   },
   "source": [
    "**\"성별에 따라서 생존 여부에는 차이가 있다(완전 관련이 있다)\"**"
   ]
  },
  {
   "cell_type": "markdown",
   "metadata": {
    "id": "GudQntCVM9av"
   },
   "source": []
  },
  {
   "cell_type": "markdown",
   "metadata": {
    "id": "BGrJExbTZA-m"
   },
   "source": [
    "* [문2] Embarked --> Survived"
   ]
  },
  {
   "cell_type": "code",
   "execution_count": 10,
   "metadata": {
    "id": "BoIaylQ1M-6M"
   },
   "outputs": [
    {
     "data": {
      "image/png": "[encoded data removed]",
      "text/plain": [
       "<Figure size 432x288 with 3 Axes>"
      ]
     },
     "metadata": {
      "needs_background": "light"
     },
     "output_type": "display_data"
    }
   ],
   "source": [
    "mosaic(titanic, ['Embarked', 'Survived'])\n",
    "plt.axhline(1-titanic['Survived'].mean(), color = 'r')\n",
    "plt.show()"
   ]
  },
  {
   "cell_type": "markdown",
   "metadata": {
    "id": "aYxypPg9M-3Q"
   },
   "source": [
    "**\"(승선지역) S와 Q는 생존 여부에 차이가 없다. 그러나 C는 다른 것들과 생존 여부에 차이가 있다. 즉, 조금 관련이 있다.\"**"
   ]
  },
  {
   "cell_type": "code",
   "execution_count": null,
   "metadata": {
    "id": "T5cCr3e0M-z-"
   },
   "outputs": [],
   "source": []
  },
  {
   "cell_type": "markdown",
   "metadata": {
    "id": "bRXfrDPRZEGa"
   },
   "source": [
    "* [문3] Title --> Survived"
   ]
  },
  {
   "cell_type": "code",
   "execution_count": 11,
   "metadata": {
    "id": "3MfAHLAcNAHV"
   },
   "outputs": [
    {
     "data": {
      "image/png": "[encoded data removed]",
      "text/plain": [
       "<Figure size 432x288 with 3 Axes>"
      ]
     },
     "metadata": {
      "needs_background": "light"
     },
     "output_type": "display_data"
    }
   ],
   "source": [
    "mosaic(titanic, ['Title', 'Survived'])\n",
    "plt.axhline(1-titanic['Survived'].mean(), color = 'r')\n",
    "plt.show()"
   ]
  },
  {
   "cell_type": "markdown",
   "metadata": {
    "id": "-kR5AatRNAEN"
   },
   "source": [
    "**\"Title(호칭)에 따라 생존여부에 차이가 있다(관련이 있다)\"**"
   ]
  },
  {
   "cell_type": "code",
   "execution_count": null,
   "metadata": {
    "id": "oE5ETFGmNAA0"
   },
   "outputs": [],
   "source": []
  },
  {
   "cell_type": "markdown",
   "metadata": {
    "id": "dmhYzOHLXvJC"
   },
   "source": [
    "## (3) 수치화 : 카이제곱검정"
   ]
  },
  {
   "cell_type": "markdown",
   "metadata": {
    "id": "9HGXCJWhY5MC"
   },
   "source": [
    "* 카이제곱검정 : 범주형 변수들 사이에 어떤 관계가 있는지, 수치화 하는 방법"
   ]
  },
  {
   "cell_type": "markdown",
   "metadata": {
    "id": "8p7ZrC7rj8Ei"
   },
   "source": [
    "![image.png](https://github.com/DA4BAM/image/blob/main/%EC%B9%B4%EC%9D%B4%EC%A0%9C%EA%B3%B1%20%ED%86%B5%EA%B3%84%EB%9F%89.png?raw=true)"
   ]
  },
  {
   "cell_type": "markdown",
   "metadata": {},
   "source": [
    "|          |   관측   |   관측   |          |   기대   |   기대   |\n",
    "|----------|----------|----------|----------|----------|----------|\n",
    "|          |   당뇨   |   정상   |          |   당뇨   |   정상   |\n",
    "| 비만체중 |    10    |    10    | 비만체중 |    5     |    15    |\n",
    "| 정상체중 |    15    |    65    | 정상체중 |    20    |    60    |\n",
    "|   100    |    35    |    75    |    100   |    25    |    75    |\n"
   ]
  },
  {
   "cell_type": "markdown",
   "metadata": {
    "id": "A2fDnaln9310"
   },
   "source": [
    "* 카이 제곱 통계량은\n",
    "    * 클수록 기대빈도로부터 실제 값에 차이가 크다는 의미.\n",
    "    * 계산식으로 볼 때, 범주의 수가 늘어날 수록 값은 커지게 되어 있음.\n",
    "    * 보통, 자유도의 2~3배 보다 크면, 차이가 있다고 본다.\n",
    "\n",
    "* 범주형 변수의 자유도 : 범주의 수 - 1\n",
    "\n",
    "* 카이제곱검정에서는\n",
    "    * x 변수의 자유도 × y 변수의 자유도\n",
    "    * 예 : Pclass --> Survived\n",
    "        * Pclass : 범주가 3개, Survived : 2개\n",
    "        * (3-1) * (2-1) = 2\n",
    "        * 그러므로, 2의 2 ~ 3배인 4 ~ 6 보다 카이제곱 통계량이 크면, 차이가 있다고 볼수 있음.\n"
   ]
  },
  {
   "cell_type": "markdown",
   "metadata": {
    "id": "CwbDv0nEkUIz"
   },
   "source": [
    "* 타이타닉 데이터에서 객실등급과 생존여부 간의 카이제곱 검정을 수행해 봅시다."
   ]
  },
  {
   "cell_type": "code",
   "execution_count": 12,
   "metadata": {
    "id": "Jl7IPy0GkeEn"
   },
   "outputs": [
    {
     "data": {
      "text/html": [
       "<div>\n",
       "<style scoped>\n",
       "    .dataframe tbody tr th:only-of-type {\n",
       "        vertical-align: middle;\n",
       "    }\n",
       "\n",
       "    .dataframe tbody tr th {\n",
       "        vertical-align: top;\n",
       "    }\n",
       "\n",
       "    .dataframe thead th {\n",
       "        text-align: right;\n",
       "    }\n",
       "</style>\n",
       "<table border=\"1\" class=\"dataframe\">\n",
       "  <thead>\n",
       "    <tr style=\"text-align: right;\">\n",
       "      <th>Pclass</th>\n",
       "      <th>1</th>\n",
       "      <th>2</th>\n",
       "      <th>3</th>\n",
       "    </tr>\n",
       "    <tr>\n",
       "      <th>Survived</th>\n",
       "      <th></th>\n",
       "      <th></th>\n",
       "      <th></th>\n",
       "    </tr>\n",
       "  </thead>\n",
       "  <tbody>\n",
       "    <tr>\n",
       "      <th>0</th>\n",
       "      <td>80</td>\n",
       "      <td>97</td>\n",
       "      <td>372</td>\n",
       "    </tr>\n",
       "    <tr>\n",
       "      <th>1</th>\n",
       "      <td>136</td>\n",
       "      <td>87</td>\n",
       "      <td>119</td>\n",
       "    </tr>\n",
       "  </tbody>\n",
       "</table>\n",
       "</div>"
      ],
      "text/plain": [
       "Pclass      1   2    3\n",
       "Survived              \n",
       "0          80  97  372\n",
       "1         136  87  119"
      ]
     },
     "execution_count": 12,
     "metadata": {},
     "output_type": "execute_result"
    }
   ],
   "source": [
    "pd.crosstab(titanic['Survived'], titanic['Pclass'])"
   ]
  },
  {
   "cell_type": "code",
   "execution_count": 13,
   "metadata": {
    "id": "ZIhdTgsSnE_P"
   },
   "outputs": [
    {
     "name": "stdout",
     "output_type": "stream",
     "text": [
      "Pclass      1   2    3\n",
      "Survived              \n",
      "0          80  97  372\n",
      "1         136  87  119\n",
      "--------------------------------------------------\n"
     ]
    },
    {
     "data": {
      "text/plain": [
       "(102.88898875696056,\n",
       " 4.549251711298793e-23,\n",
       " 2,\n",
       " array([[133.09090909, 113.37373737, 302.53535354],\n",
       "        [ 82.90909091,  70.62626263, 188.46464646]]))"
      ]
     },
     "execution_count": 13,
     "metadata": {},
     "output_type": "execute_result"
    }
   ],
   "source": [
    "# 1) 먼저 교차표 집계- normalize 하면 안 됨\n",
    "table = pd.crosstab(titanic['Survived'], titanic['Pclass'])\n",
    "print(table)\n",
    "print('-' * 50)\n",
    "\n",
    "# 2) 카이제곱검정\n",
    "spst.chi2_contingency(table)"
   ]
  },
  {
   "cell_type": "markdown",
   "metadata": {},
   "source": [
    "카이제곱 통계량: 102.89, p-value < 0.05, 자유도, 기대빈도\n",
    "- 카이제곱 통계량이 크면 클수록 차이가 크다\n",
    "- 대립가설이 맞다(객실 등급과 생존여부 간에 차이가 있다.)"
   ]
  },
  {
   "cell_type": "markdown",
   "metadata": {
    "id": "Uq1lijGhsw72"
   },
   "source": [
    "<img src='https://raw.githubusercontent.com/jangrae/img/master/practice_01.png' width=120 align=\"left\"/>"
   ]
  },
  {
   "cell_type": "markdown",
   "metadata": {
    "id": "ai4Io_lInE_Q"
   },
   "source": [
    "다음의 관계에 대해 수치화 해 봅시다."
   ]
  },
  {
   "cell_type": "markdown",
   "metadata": {
    "id": "DIIf_Gt9foRO"
   },
   "source": [
    "* [문1] Sex --> Survived"
   ]
  },
  {
   "cell_type": "code",
   "execution_count": 14,
   "metadata": {
    "id": "dLVO0UZ3XPH4"
   },
   "outputs": [
    {
     "name": "stdout",
     "output_type": "stream",
     "text": [
      "Sex       female  male\n",
      "Survived              \n",
      "0             81   468\n",
      "1            233   109\n",
      "--------------------------------------------------\n"
     ]
    },
    {
     "data": {
      "text/plain": [
       "(260.71702016732104,\n",
       " 1.1973570627755645e-58,\n",
       " 1,\n",
       " array([[193.47474747, 355.52525253],\n",
       "        [120.52525253, 221.47474747]]))"
      ]
     },
     "execution_count": 14,
     "metadata": {},
     "output_type": "execute_result"
    }
   ],
   "source": [
    "table = pd.crosstab(titanic['Survived'], titanic['Sex'])\n",
    "print(table)\n",
    "print('-' * 50)\n",
    "\n",
    "spst.chi2_contingency(table)"
   ]
  },
  {
   "cell_type": "markdown",
   "metadata": {},
   "source": [
    "**\"귀무가설 기각.. 관련이 있다.'\"** "
   ]
  },
  {
   "cell_type": "markdown",
   "metadata": {
    "id": "sfkwdLVvZIOP"
   },
   "source": [
    "* [문2] Embarked --> Survived"
   ]
  },
  {
   "cell_type": "code",
   "execution_count": 15,
   "metadata": {
    "id": "7HwAZctKZIOQ"
   },
   "outputs": [
    {
     "name": "stdout",
     "output_type": "stream",
     "text": [
      "Embarked   C   Q    S\n",
      "Survived             \n",
      "0         75  47  427\n",
      "1         93  30  219\n",
      "--------------------------------------------------\n"
     ]
    },
    {
     "data": {
      "text/plain": [
       "(25.964452881874784,\n",
       " 2.3008626481449577e-06,\n",
       " 2,\n",
       " array([[103.51515152,  47.44444444, 398.04040404],\n",
       "        [ 64.48484848,  29.55555556, 247.95959596]]))"
      ]
     },
     "execution_count": 15,
     "metadata": {},
     "output_type": "execute_result"
    }
   ],
   "source": [
    "table = pd.crosstab(titanic['Survived'], titanic['Embarked'])\n",
    "print(table)\n",
    "print('-' * 50)\n",
    "\n",
    "spst.chi2_contingency(table)"
   ]
  },
  {
   "cell_type": "markdown",
   "metadata": {},
   "source": [
    "**\"관련이 있긴 하지만 크지 않음\"**"
   ]
  },
  {
   "cell_type": "markdown",
   "metadata": {
    "id": "WCmKwOwSZIOR"
   },
   "source": [
    "* [문3] Title --> Survived"
   ]
  },
  {
   "cell_type": "code",
   "execution_count": 16,
   "metadata": {
    "id": "VAhKitACZIOS"
   },
   "outputs": [
    {
     "name": "stdout",
     "output_type": "stream",
     "text": [
      "Title     Master  Miss   Mr  Mrs  Others\n",
      "Survived                                \n",
      "0             18    55  439   26      11\n",
      "1             23   130   84  102       3\n",
      "--------------------------------------------------\n"
     ]
    },
    {
     "data": {
      "text/plain": [
       "(289.1953165452417,\n",
       " 2.318405007221846e-61,\n",
       " 4,\n",
       " array([[ 25.26262626, 113.98989899, 322.25252525,  78.86868687,\n",
       "           8.62626263],\n",
       "        [ 15.73737374,  71.01010101, 200.74747475,  49.13131313,\n",
       "           5.37373737]]))"
      ]
     },
     "execution_count": 16,
     "metadata": {},
     "output_type": "execute_result"
    }
   ],
   "source": [
    "table = pd.crosstab(titanic['Survived'], titanic['Title'])\n",
    "print(table)\n",
    "print('-' * 50)\n",
    "\n",
    "spst.chi2_contingency(table)"
   ]
  },
  {
   "cell_type": "markdown",
   "metadata": {},
   "source": [
    "**\"성별보다 더 의미가 있네 X. 굉장히 강한 관계\"**"
   ]
  },
  {
   "cell_type": "markdown",
   "metadata": {
    "id": "yXqCUx6ZGXna"
   },
   "source": [
    "# 3.복습문제"
   ]
  },
  {
   "cell_type": "markdown",
   "metadata": {
    "id": "YZLGQgukIGVb"
   },
   "source": [
    "* 항공기 탑승객의 만족도와 관련 있는 요인을 분석해 봅시다.\n",
    "* 약 5천명의 탑승객에 대해서 탑승 경험을 바탕으로 데이터셋이 구성되어 있습니다.\n",
    "    * Target\n",
    "        * 탑승 만족도(satisfaction) : 만족 = 1, 불만 = 0\n",
    "    * Feature\n",
    "        * 성별, 나이, 여행타입, 객실등급, 비행거리, 객실등급, 비행거리, 식음료 만족도, 출발지연시간\n"
   ]
  },
  {
   "cell_type": "code",
   "execution_count": 17,
   "metadata": {
    "id": "egMrRK6LGZHy"
   },
   "outputs": [
    {
     "data": {
      "text/html": [
       "<div>\n",
       "<style scoped>\n",
       "    .dataframe tbody tr th:only-of-type {\n",
       "        vertical-align: middle;\n",
       "    }\n",
       "\n",
       "    .dataframe tbody tr th {\n",
       "        vertical-align: top;\n",
       "    }\n",
       "\n",
       "    .dataframe thead th {\n",
       "        text-align: right;\n",
       "    }\n",
       "</style>\n",
       "<table border=\"1\" class=\"dataframe\">\n",
       "  <thead>\n",
       "    <tr style=\"text-align: right;\">\n",
       "      <th></th>\n",
       "      <th>Gender</th>\n",
       "      <th>Age</th>\n",
       "      <th>Type of Travel</th>\n",
       "      <th>Class</th>\n",
       "      <th>Flight Distance</th>\n",
       "      <th>Food and drink</th>\n",
       "      <th>Departure Delay in Minutes</th>\n",
       "      <th>satisfaction</th>\n",
       "    </tr>\n",
       "  </thead>\n",
       "  <tbody>\n",
       "    <tr>\n",
       "      <th>0</th>\n",
       "      <td>Male</td>\n",
       "      <td>13</td>\n",
       "      <td>Personal Travel</td>\n",
       "      <td>Eco Plus</td>\n",
       "      <td>460</td>\n",
       "      <td>5</td>\n",
       "      <td>25</td>\n",
       "      <td>0</td>\n",
       "    </tr>\n",
       "    <tr>\n",
       "      <th>1</th>\n",
       "      <td>Male</td>\n",
       "      <td>25</td>\n",
       "      <td>Business travel</td>\n",
       "      <td>Business</td>\n",
       "      <td>235</td>\n",
       "      <td>1</td>\n",
       "      <td>1</td>\n",
       "      <td>0</td>\n",
       "    </tr>\n",
       "    <tr>\n",
       "      <th>2</th>\n",
       "      <td>Female</td>\n",
       "      <td>26</td>\n",
       "      <td>Business travel</td>\n",
       "      <td>Business</td>\n",
       "      <td>1142</td>\n",
       "      <td>5</td>\n",
       "      <td>0</td>\n",
       "      <td>1</td>\n",
       "    </tr>\n",
       "    <tr>\n",
       "      <th>3</th>\n",
       "      <td>Female</td>\n",
       "      <td>25</td>\n",
       "      <td>Business travel</td>\n",
       "      <td>Business</td>\n",
       "      <td>562</td>\n",
       "      <td>2</td>\n",
       "      <td>11</td>\n",
       "      <td>0</td>\n",
       "    </tr>\n",
       "    <tr>\n",
       "      <th>4</th>\n",
       "      <td>Male</td>\n",
       "      <td>61</td>\n",
       "      <td>Business travel</td>\n",
       "      <td>Business</td>\n",
       "      <td>214</td>\n",
       "      <td>4</td>\n",
       "      <td>0</td>\n",
       "      <td>1</td>\n",
       "    </tr>\n",
       "  </tbody>\n",
       "</table>\n",
       "</div>"
      ],
      "text/plain": [
       "   Gender  Age   Type of Travel     Class  Flight Distance  Food and drink  \\\n",
       "0    Male   13  Personal Travel  Eco Plus              460               5   \n",
       "1    Male   25  Business travel  Business              235               1   \n",
       "2  Female   26  Business travel  Business             1142               5   \n",
       "3  Female   25  Business travel  Business              562               2   \n",
       "4    Male   61  Business travel  Business              214               4   \n",
       "\n",
       "   Departure Delay in Minutes  satisfaction  \n",
       "0                          25             0  \n",
       "1                           1             0  \n",
       "2                           0             1  \n",
       "3                          11             0  \n",
       "4                           0             1  "
      ]
     },
     "execution_count": 17,
     "metadata": {},
     "output_type": "execute_result"
    }
   ],
   "source": [
    "path = 'https://raw.githubusercontent.com/DA4BAM/dataset/master/Air_Satisfaction.csv'\n",
    "cols = ['Gender', 'Age', 'Type of Travel', 'Class', 'Flight Distance', 'Food and drink',\n",
    "        'Departure Delay in Minutes', 'satisfaction']\n",
    "data = pd.read_csv(path, usecols = cols)\n",
    "data['satisfaction'] = np.where(data['satisfaction'] =='satisfied', 1 ,0)\n",
    "data.head()"
   ]
  },
  {
   "cell_type": "markdown",
   "metadata": {
    "id": "cgOpAmKPIx1r"
   },
   "source": [
    "다음의 변수 관계에 대해 그래프와 가설검정으로 분석하시오."
   ]
  },
  {
   "cell_type": "code",
   "execution_count": 18,
   "metadata": {
    "id": "JqmxbY5UJU0r"
   },
   "outputs": [],
   "source": [
    "target = 'satisfaction'"
   ]
  },
  {
   "cell_type": "markdown",
   "metadata": {
    "id": "-z5b01loIqtK"
   },
   "source": [
    "## (1) Gender --> Satisfaction"
   ]
  },
  {
   "cell_type": "code",
   "execution_count": 19,
   "metadata": {
    "id": "UhrS1TRswOpg"
   },
   "outputs": [],
   "source": [
    "feature = 'Gender'"
   ]
  },
  {
   "cell_type": "markdown",
   "metadata": {
    "id": "EC2dJnaTwinX"
   },
   "source": [
    "* 시각화"
   ]
  },
  {
   "cell_type": "code",
   "execution_count": 26,
   "metadata": {
    "id": "pnW-kCWMwidr"
   },
   "outputs": [
    {
     "data": {
      "image/png": "[encoded data removed]",
      "text/plain": [
       "<Figure size 432x288 with 3 Axes>"
      ]
     },
     "metadata": {
      "needs_background": "light"
     },
     "output_type": "display_data"
    }
   ],
   "source": [
    "mosaic(data, [feature, target])\n",
    "plt.axhline(1-data[target].mean(), color = 'r')\n",
    "plt.show()"
   ]
  },
  {
   "cell_type": "markdown",
   "metadata": {
    "id": "fIJ6l3BNwwaK"
   },
   "source": [
    "* 수치화 : 카이제곱검정"
   ]
  },
  {
   "cell_type": "code",
   "execution_count": 27,
   "metadata": {
    "id": "At0EmCJ8wzJe"
   },
   "outputs": [
    {
     "name": "stdout",
     "output_type": "stream",
     "text": [
      "Title     Master  Miss   Mr  Mrs  Others\n",
      "Survived                                \n",
      "0             18    55  439   26      11\n",
      "1             23   130   84  102       3\n",
      "--------------------------------------------------\n"
     ]
    },
    {
     "data": {
      "text/plain": [
       "(289.1953165452417,\n",
       " 2.318405007221846e-61,\n",
       " 4,\n",
       " array([[ 25.26262626, 113.98989899, 322.25252525,  78.86868687,\n",
       "           8.62626263],\n",
       "        [ 15.73737374,  71.01010101, 200.74747475,  49.13131313,\n",
       "           5.37373737]]))"
      ]
     },
     "execution_count": 27,
     "metadata": {},
     "output_type": "execute_result"
    }
   ],
   "source": [
    "table = pd.crosstab(titanic['Survived'], titanic['Title'])\n",
    "print(table)\n",
    "print('-' * 50)\n",
    "\n",
    "spst.chi2_contingency(table)"
   ]
  },
  {
   "cell_type": "markdown",
   "metadata": {
    "id": "TRUvcaBQwpAf"
   },
   "source": [
    "* 파악된 내용을 기술해 봅시다."
   ]
  },
  {
   "cell_type": "code",
   "execution_count": null,
   "metadata": {
    "id": "ZQt8jYLSHAWG"
   },
   "outputs": [],
   "source": []
  },
  {
   "cell_type": "markdown",
   "metadata": {
    "id": "L7OKiS_yI6w-"
   },
   "source": [
    "## (2) Type of Travel --> Satisfaction"
   ]
  },
  {
   "cell_type": "code",
   "execution_count": null,
   "metadata": {
    "id": "VtmVmu4lK88X"
   },
   "outputs": [],
   "source": []
  },
  {
   "cell_type": "markdown",
   "metadata": {
    "id": "qK1yzzbEK88j"
   },
   "source": [
    "* 시각화"
   ]
  },
  {
   "cell_type": "code",
   "execution_count": null,
   "metadata": {
    "id": "wRywrsHBK88j"
   },
   "outputs": [],
   "source": []
  },
  {
   "cell_type": "markdown",
   "metadata": {
    "id": "dA2zcETeK88j"
   },
   "source": [
    "* 수치화 : 카이제곱검정"
   ]
  },
  {
   "cell_type": "code",
   "execution_count": null,
   "metadata": {
    "id": "jg5GWw7MK88j"
   },
   "outputs": [],
   "source": []
  },
  {
   "cell_type": "markdown",
   "metadata": {
    "id": "cDrYNHEbK88j"
   },
   "source": [
    "* 파악된 내용을 기술해 봅시다."
   ]
  },
  {
   "cell_type": "code",
   "execution_count": null,
   "metadata": {
    "id": "i0lAbp5MK88j"
   },
   "outputs": [],
   "source": []
  },
  {
   "cell_type": "markdown",
   "metadata": {
    "id": "dYd8nfbiI63A"
   },
   "source": [
    "## (3) Class --> Satisfaction"
   ]
  },
  {
   "cell_type": "code",
   "execution_count": null,
   "metadata": {
    "id": "o4wC_jhqK-Sd"
   },
   "outputs": [],
   "source": []
  },
  {
   "cell_type": "markdown",
   "metadata": {
    "id": "CYFRI0o6K-Sd"
   },
   "source": [
    "* 시각화"
   ]
  },
  {
   "cell_type": "code",
   "execution_count": null,
   "metadata": {
    "id": "GqeYB0ctK-Sd"
   },
   "outputs": [],
   "source": []
  },
  {
   "cell_type": "markdown",
   "metadata": {
    "id": "Zg7M78RZK-Sd"
   },
   "source": [
    "* 수치화 : 카이제곱검정"
   ]
  },
  {
   "cell_type": "code",
   "execution_count": null,
   "metadata": {
    "id": "xgsobZjDK-Sd"
   },
   "outputs": [],
   "source": []
  },
  {
   "cell_type": "markdown",
   "metadata": {
    "id": "sjyfr0W7K-Sd"
   },
   "source": [
    "* 파악된 내용을 기술해 봅시다."
   ]
  },
  {
   "cell_type": "code",
   "execution_count": null,
   "metadata": {
    "id": "LQnb54xNK-Se"
   },
   "outputs": [],
   "source": []
  },
  {
   "cell_type": "markdown",
   "metadata": {
    "id": "6S8_GW6yI67N"
   },
   "source": [
    "## (4) Food and drink --> Satisfaction"
   ]
  },
  {
   "cell_type": "code",
   "execution_count": null,
   "metadata": {
    "id": "Bi7QkNvjK_gg"
   },
   "outputs": [],
   "source": []
  },
  {
   "cell_type": "markdown",
   "metadata": {
    "id": "mYh_d-ZwK_gn"
   },
   "source": [
    "* 시각화"
   ]
  },
  {
   "cell_type": "code",
   "execution_count": null,
   "metadata": {
    "id": "GS5DaFvkK_gn"
   },
   "outputs": [],
   "source": []
  },
  {
   "cell_type": "markdown",
   "metadata": {
    "id": "Fgy7S03_K_gn"
   },
   "source": [
    "* 수치화 : 카이제곱검정"
   ]
  },
  {
   "cell_type": "code",
   "execution_count": null,
   "metadata": {
    "id": "EtZnt4mEK_gn"
   },
   "outputs": [],
   "source": []
  },
  {
   "cell_type": "markdown",
   "metadata": {
    "id": "tEDWD-TpK_gn"
   },
   "source": [
    "* 파악된 내용을 기술해 봅시다."
   ]
  },
  {
   "cell_type": "code",
   "execution_count": null,
   "metadata": {
    "id": "qjAg9r_wK_gn"
   },
   "outputs": [],
   "source": []
  },
  {
   "cell_type": "code",
   "execution_count": null,
   "metadata": {
    "id": "KcQT--5uI67N"
   },
   "outputs": [],
   "source": []
  }
 ],
 "metadata": {
  "colab": {
   "provenance": [],
   "toc_visible": true
  },
  "kernelspec": {
   "display_name": "Python 3",
   "language": "python",
   "name": "python3"
  },
  "language_info": {
   "codemirror_mode": {
    "name": "ipython",
    "version": 3
   },
   "file_extension": ".py",
   "mimetype": "text/x-python",
   "name": "python",
   "nbconvert_exporter": "python",
   "pygments_lexer": "ipython3",
   "version": "3.7.6"
  }
 },
 "nbformat": 4,
 "nbformat_minor": 4
}
